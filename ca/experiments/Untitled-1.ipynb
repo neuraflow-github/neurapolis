{
 "cells": [
  {
   "cell_type": "code",
   "execution_count": 5,
   "metadata": {},
   "outputs": [
    {
     "name": "stdout",
     "output_type": "stream",
     "text": [
      "Loaded dataset: search_council_alignment\n",
      "Number of examples: 30\n",
      "\n",
      "First 5 examples:\n",
      "\n",
      "Example 1:\n",
      "Inputs: {'input': 'Suche nach den Beschlüssen des Gemeinderats bezüglich der Drucksache G-24/065, die am 23.04.2024 behandelt wurde und sich auf die Zukunft der Freiburger Bauernmärkte bezog.'}\n",
      "Outputs: {'output': 'Die Drucksache G-24/065 bezieht sich auf den interfraktionellen Antrag zur Sicherung der Zukunft der Freiburger Bauernmärkte, der am 07.10.2022 eingereicht wurde. Der Beschluss zu dieser Drucksache wurde bereits zugestellt. Weitere Details zur Behandlung am 23.04.2024 sind in dem bereitgestellten Kontext jedoch nicht enthalten. \\n\\nQuelle: Unbekannt.'}\n",
      "\n",
      "Example 2:\n",
      "Inputs: {'input': 'Was war der Beschluss des Gemeinderats bezüglich der Drucksache G-24/065 zur Zukunft der Freiburger Bauernmärkte?'}\n",
      "Outputs: {'output': 'Der Beschluss des Gemeinderats bezüglich der Drucksache G-24/065 zur Zukunft der Freiburger Bauernmärkte ist nicht direkt im bereitgestellten Kontext angegeben. Es wird lediglich erwähnt, dass es sich um einen interfraktionellen Antrag handelt, der am 07.10.2022 gestellt wurde. Für spezifische Informationen über den Inhalt oder das Ergebnis des Beschlusses wäre eine detailliertere Quelle nötig. \\n\\nSource: Unknown'}\n",
      "\n",
      "Example 3:\n",
      "Inputs: {'input': 'Was wurde mit dem Dokument G-24/065 in Bezug auf die Entscheidungen zu den Freiburger Bauernmärkten beschlossen?'}\n",
      "Outputs: {'output': 'Die Informationen, die Sie angefordert haben, sind im bereitgestellten Kontext nicht enthalten. Daher kann ich keine spezifischen Details zu den Entscheidungen in Bezug auf die Freiburger Bauernmärkte im Dokument G-24/065 geben. \\n\\nQuelle: Unbekannt'}\n",
      "\n",
      "Example 4:\n",
      "Inputs: {'input': 'Was wurden die Entscheidungen des Gemeinderats bezüglich der Freiburger Bauernmärkte?'}\n",
      "Outputs: {'output': 'Die Entscheidungen des Gemeinderats bezüglich der Freiburger Bauernmärkte sind im interfraktionellen Antrag vom 07.10.2022 dokumentiert, der darauf abzielt, die Zukunft der Freiburger Bauernmärkte zu sichern. Der Antrag verweist auf die Drucksache G-24/065 und wurde bereits zugestellt. \\n\\nQuelle: Unbekannt'}\n",
      "\n",
      "Example 5:\n",
      "Inputs: {'input': 'Suche nach dem Datum der letzten Sitzung des Freiburger Gemeinderats, in der das Eingemeindungsjubiläum einer Ortschaft gewürdigt wurde.'}\n",
      "Outputs: {'output': 'Das Datum der letzten Sitzung des Freiburger Gemeinderats, in der das Eingemeindungsjubiläum einer Ortschaft gewürdigt wurde, ist der 23. Juli 2024. In dieser Sitzung wurde das 50-jährige Eingemeindungsjubiläum der Ortschaften Ebnet und Kappel in die Stadt Freiburg behandelt. \\n\\nQuelle: Unbekannt'}\n"
     ]
    }
   ],
   "source": [
    "\n",
    "\n",
    "from langsmith import Client\n",
    "\n",
    "client = Client(api_url='https://eu.api.smith.langchain.com', api_key='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')\n",
    "\n",
    "# Load the \"search_council_alignment\" dataset\n",
    "dataset_name = \"search_council_alignment\"\n",
    "dataset = client.read_dataset(dataset_name=dataset_name)\n",
    "\n",
    "# Print some information about the dataset\n",
    "print(f\"Loaded dataset: {dataset.name}\")\n",
    "print(f\"Number of examples: {dataset.example_count}\")\n",
    "\n",
    "# Optionally, you can list a few examples to verify the content\n",
    "examples = list(client.list_examples(dataset_id=dataset.id, limit=5))\n",
    "print(\"\\nFirst 5 examples:\")\n",
    "for i, example in enumerate(examples, 1):\n",
    "    print(f\"\\nExample {i}:\")\n",
    "    print(f\"Inputs: {example.inputs}\")\n",
    "    print(f\"Outputs: {example.outputs}\")\n",
    "\n",
    "\n"
   ]
  },
  {
   "cell_type": "code",
   "execution_count": 16,
   "metadata": {},
   "outputs": [
    {
     "name": "stdout",
     "output_type": "stream",
     "text": [
      "\n",
      "List of inputs:\n",
      "1. Suche nach den Beschlüssen des Gemeinderats bezüglich der Drucksache G-24/065, die am 23.04.2024 behandelt wurde und sich auf die Zukunft der Freiburger Bauernmärkte bezog.\n",
      "2. Was war der Beschluss des Gemeinderats bezüglich der Drucksache G-24/065 zur Zukunft der Freiburger Bauernmärkte?\n",
      "3. Was wurde mit dem Dokument G-24/065 in Bezug auf die Entscheidungen zu den Freiburger Bauernmärkten beschlossen?\n",
      "4. Was wurden die Entscheidungen des Gemeinderats bezüglich der Freiburger Bauernmärkte?\n",
      "5. Suche nach dem Datum der letzten Sitzung des Freiburger Gemeinderats, in der das Eingemeindungsjubiläum einer Ortschaft gewürdigt wurde.\n"
     ]
    }
   ],
   "source": [
    "# Extract inputs from examples\n",
    "inputs = []\n",
    "for example in examples:\n",
    "    input_text = example.inputs.get('input', '')\n",
    "    if input_text:\n",
    "        inputs.append(input_text)\n",
    "\n",
    "# Print the list of inputs\n",
    "print(\"\\nList of inputs:\")\n",
    "for i, input_text in enumerate(inputs, 1):\n",
    "    print(f\"{i}. {input_text}\")"
   ]
  },
  {
   "cell_type": "code",
   "execution_count": 11,
   "metadata": {},
   "outputs": [
    {
     "data": {
      "text/plain": [
       "True"
      ]
     },
     "execution_count": 11,
     "metadata": {},
     "output_type": "execute_result"
    }
   ],
   "source": [
    "from dotenv import load_dotenv\n",
    "import os\n",
    "\n",
    "# Load environment variables from .env file\n",
    "load_dotenv(override=True)"
   ]
  },
  {
   "cell_type": "code",
   "execution_count": 12,
   "metadata": {},
   "outputs": [],
   "source": [
    "from langchain_community.vectorstores import Neo4jVector\n",
    "from langchain_openai import OpenAIEmbeddings"
   ]
  },
  {
   "cell_type": "code",
   "execution_count": 30,
   "metadata": {},
   "outputs": [],
   "source": [
    "parent_query = \"\"\"\n",
    "MATCH (node)-[:FILE_SECTION_HAS_FILE_CHUNK]-(parent)\n",
    "MATCH (parent)-[:FILE_HAS_FILE_SECTION]-(file)\n",
    "WITH file, parent, max(score) AS score // deduplicate parents\n",
    "RETURN parent.text AS text, score, {source: file.access_url} AS metadata LIMIT 1\n",
    "\"\"\""
   ]
  },
  {
   "cell_type": "code",
   "execution_count": 31,
   "metadata": {},
   "outputs": [],
   "source": [
    "typical_rag = Neo4jVector.from_existing_index(\n",
    "    OpenAIEmbeddings(), index_name=\"file_chunks\",retrieval_query=parent_query\n",
    ")"
   ]
  },
  {
   "cell_type": "code",
   "execution_count": 32,
   "metadata": {},
   "outputs": [
    {
     "name": "stdout",
     "output_type": "stream",
     "text": [
      "Suche nach den Beschlüssen des Gemeinderats bezüglich der Drucksache G-24/065, die am 23.04.2024 behandelt wurde und sich auf die Zukunft der Freiburger Bauernmärkte bezog.\n",
      "\n",
      "Relevant documents for: 'Suche nach den Beschlüssen des Gemeinderats bezüglich der Drucksache G-24/065, die am 23.04.2024 behandelt wurde und sich auf die Zukunft der Freiburger Bauernmärkte bezog.'\n",
      "\n",
      "Document 1:\n",
      "Content: \n",
      "   (Drucksache G-24/044 bereits zugestellt; Drucksache G-24/044.1 wird nachgereicht)\n",
      "\n",
      "8. Freiburger Sportentwicklungsplan 2024 - 2040 (u. a. Antrag der CDU-Fraktion vom 14.02.2023)\n",
      "...\n",
      "Metadata: {'source': 'https://ris.freiburg.de/documents.php?id=69&inline=1&document_type_id=11&meeting_attachment_id=ni_2024-GR-262%7C20240308090002-0_2024-GR-262_1.pdf'}\n",
      "\n",
      "----------------------------------------------------------------------------------------------------\n",
      "Was war der Beschluss des Gemeinderats bezüglich der Drucksache G-24/065 zur Zukunft der Freiburger Bauernmärkte?\n",
      "\n",
      "Relevant documents for: 'Was war der Beschluss des Gemeinderats bezüglich der Drucksache G-24/065 zur Zukunft der Freiburger Bauernmärkte?'\n",
      "\n",
      "Document 1:\n",
      "Content: Ortschaftsrat Toni Luhr  \n",
      "Ortschaftsrätin Liliane Moser  \n",
      "Ortsverwaltung Munzingen  \n",
      "\n",
      "Es fehlten:  \n",
      "Ortschaftsrat Wolfgang Schmid   erkrankt!  \n",
      "\n",
      "Von der Verwaltung: Josef Danner, Schriftführer  \n",
      "\n",
      "Bei ...\n",
      "Metadata: {'source': 'https://ris.freiburg.de/documents.php?id=69&inline=1&document_type_id=11&meeting_attachment_id=ni_2022-OR_MU-70%7C20240220100138-0_ni_2022-OR_MU-70_6.pdf'}\n",
      "\n",
      "----------------------------------------------------------------------------------------------------\n",
      "Was wurde mit dem Dokument G-24/065 in Bezug auf die Entscheidungen zu den Freiburger Bauernmärkten beschlossen?\n",
      "\n",
      "Relevant documents for: 'Was wurde mit dem Dokument G-24/065 in Bezug auf die Entscheidungen zu den Freiburger Bauernmärkten beschlossen?'\n",
      "\n",
      "Document 1:\n",
      "Content: \n",
      "   - Drucksache G-24/053 - beschließend\n",
      "\n",
      "   (bereits zugestellt)\n",
      "...\n",
      "Metadata: {'source': 'https://ris.freiburg.de/documents.php?id=69&inline=1&document_type_id=11&meeting_attachment_id=ni_2024-GR-262%7C20240308090002-0_2024-GR-262_1.pdf'}\n",
      "\n",
      "----------------------------------------------------------------------------------------------------\n",
      "Was wurden die Entscheidungen des Gemeinderats bezüglich der Freiburger Bauernmärkte?\n",
      "\n",
      "Relevant documents for: 'Was wurden die Entscheidungen des Gemeinderats bezüglich der Freiburger Bauernmärkte?'\n",
      "\n",
      "Document 1:\n",
      "Content: Ein Bürger berichtet, dass die Schule den Mehrbedarf an Schülerkapazität auffangen. Allerdings werden zwischenzeitlich weitere Räumlichkeiten für Cafeteria und Schulkindbetreuung benötigt, die im Beda...\n",
      "Metadata: {'source': 'https://ris.freiburg.de/documents.php?id=69&inline=1&document_type_id=11&meeting_attachment_id=ni_2023-OR_TI-108%7C20240115141640-0_ni_2023-OR_TI-108_1.pdf'}\n",
      "\n",
      "----------------------------------------------------------------------------------------------------\n",
      "Suche nach dem Datum der letzten Sitzung des Freiburger Gemeinderats, in der das Eingemeindungsjubiläum einer Ortschaft gewürdigt wurde.\n",
      "\n",
      "Relevant documents for: 'Suche nach dem Datum der letzten Sitzung des Freiburger Gemeinderats, in der das Eingemeindungsjubiläum einer Ortschaft gewürdigt wurde.'\n",
      "\n",
      "Document 1:\n",
      "Content: \n",
      "Vorschläge, Planung und Terminfindung Veranstaltung zum 50-jährigen Eingemeindungsjubiläum von Munzingen zur Stadt Freiburg am 01.07.2023\n",
      "\n",
      "**Vortrag:**\n",
      "OV Schildecker führte kurz in diese Thematik ei...\n",
      "Metadata: {'source': 'https://ris.freiburg.de/documents.php?id=69&inline=1&document_type_id=11&meeting_attachment_id=ni_2022-OR_MU-71%7C20240220100414-0_ni_2022-OR_MU-71_3.pdf'}\n",
      "\n",
      "----------------------------------------------------------------------------------------------------\n"
     ]
    }
   ],
   "source": [
    "retriever = typical_rag.as_retriever(search_kwargs={\"k\": 10})\n",
    "\n",
    "for input_text in inputs:\n",
    "    print(input_text)\n",
    "    docs = retriever.get_relevant_documents(input_text)\n",
    "    print(f\"\\nRelevant documents for: '{input_text}'\\n\")\n",
    "    for i, doc in enumerate(docs, 1):\n",
    "        print(f\"Document {i}:\")\n",
    "        print(f\"Content: {doc.page_content[:200]}...\")  # Print first 200 characters\n",
    "        print(f\"Metadata: {doc.metadata}\")\n",
    "        print()\n",
    "    print(\"-\" * 100)"
   ]
  },
  {
   "cell_type": "code",
   "execution_count": 38,
   "metadata": {},
   "outputs": [],
   "source": [
    "from typing import List, Union\n",
    "\n",
    "from langchain.chains.graph_qa.cypher_utils import CypherQueryCorrector, Schema\n",
    "from langchain_community.graphs import Neo4jGraph\n",
    "from langchain_core.messages import (\n",
    "    AIMessage,\n",
    "    SystemMessage,\n",
    "    ToolMessage,\n",
    ")\n",
    "from langchain_core.output_parsers import StrOutputParser\n",
    "from langchain_core.prompts import (\n",
    "    ChatPromptTemplate,\n",
    "    HumanMessagePromptTemplate,\n",
    "    MessagesPlaceholder,\n",
    ")\n",
    "from langchain_core.pydantic_v1 import BaseModel\n",
    "from langchain_core.runnables import RunnablePassthrough\n",
    "from langchain_openai import ChatOpenAI\n",
    "\n",
    "from dotenv import load_dotenv\n",
    "import os\n",
    "\n",
    "# Load environment variables from .env file\n",
    "load_dotenv(override=True)\n",
    "\n",
    "# Access environment variables\n",
    "NEO4J_URI = os.getenv(\"NEO4J_URI\")\n",
    "NEO4J_USERNAME = os.getenv(\"NEO4J_USERNAME\")\n",
    "NEO4J_PASSWORD = os.getenv(\"NEO4J_PASSWORD\")\n",
    "OPENAI_API_KEY = os.getenv(\"OPENAI_API_KEY\")\n",
    "\n",
    "# Set OpenAI API key\n",
    "os.environ[\"OPENAI_API_KEY\"] = OPENAI_API_KEY\n",
    "\n",
    "\n",
    "# Connection to Neo4j\n",
    "graph = Neo4jGraph()"
   ]
  },
  {
   "cell_type": "code",
   "execution_count": 39,
   "metadata": {},
   "outputs": [],
   "source": [
    "from langchain_aws import ChatBedrock\n",
    "\n",
    "cypher_llm = ChatBedrock(\n",
    "    model_id=\"anthropic.claude-3-5-sonnet-20240620-v1:0\",\n",
    "    model_kwargs=dict(temperature=0),\n",
    "    name=\"agent\",\n",
    "    # other params...\n",
    ")"
   ]
  },
  {
   "cell_type": "code",
   "execution_count": 49,
   "metadata": {},
   "outputs": [],
   "source": [
    "cypher_template = (\n",
    "    cypher_template\n",
    ") = \"\"\"\n",
    "Create a Cypher query to filter embedding search results on file chunks in a Neo4j graph database. Start with 'node' (unlabeled nodes from initial search). Your query should:\n",
    "\n",
    "1. Traverse relationships to relevant connected nodes\n",
    "2. Filter using only structural properties and relationships (no text content)\n",
    "3. Include the file's access URL as 'source' in the output metadata\n",
    "\n",
    "Key points:\n",
    "- NO text-based filtering (no CONTAINS, =, etc. on string fields)\n",
    "- Use only relationships and non-text properties (dates, numbers, booleans)\n",
    "- Always reach and return the File node's access_url as 'source'\n",
    "- Include score in the query\n",
    "\n",
    "Key node types: File, FileSection, FileChunk, Meeting, AgendaItem, Paper, Person, Organization\n",
    "\n",
    "Query structure:\n",
    "MATCH (node)-[:<RELATIONSHIPS>]->(:RelevantNodes)\n",
    "MATCH (file:File) WHERE ...\n",
    "WHERE <structural_conditions>\n",
    "WITH node, score, file\n",
    "RETURN node.id, score, node.text, {{source: file.access_url, ...}} AS metadata\n",
    "\n",
    "- Include all properties in the WITH clause that are used in the RETURN statement\n",
    "\n",
    "If there is a unique identifier like a reference present in the question, then use that and nothing else should get the document directly.\n",
    "\n",
    "e.g. \n",
    "\n",
    "Suche nach den Beschlüssen des Gemeinderats bezüglich der Drucksache G-24/065, die am 23.04.2024 behandelt wurde und sich auf die Zukunft der Freiburger Bauernmärkte bezog.\n",
    "\n",
    "returns:\n",
    "\n",
    "MATCH (node)-[:FILE_SECTION_HAS_FILE_CHUNK]-(fileSection:FileSection)\n",
    ")\n",
    "MATCH (file:File) - [:FILE_HAS_FILE_SECTION]->(fileSection:FileSection)\n",
    "MATCH(paper:Paper)-[:PAPER_HAS_AUXILIARY_FILE]->(file:File)\n",
    "WHERE paper.reference = 'G-24/065'\n",
    "RETURN node.id, score, node.text, {{source: file.access_url, ...}} AS metadata\n",
    "\n",
    "Schema: {schema}\n",
    "Question: {question}\n",
    "Cypher query:\n",
    "\"\"\"\n"
   ]
  },
  {
   "cell_type": "code",
   "execution_count": 50,
   "metadata": {},
   "outputs": [],
   "source": [
    "from langchain_core.output_parsers import StrOutputParser\n",
    "from langchain_core.prompts import ChatPromptTemplate\n",
    "from langchain_core.runnables import RunnablePassthrough\n",
    "\n",
    "cypher_prompt = ChatPromptTemplate.from_messages(\n",
    "    [\n",
    "        (\n",
    "            \"system\",\n",
    "            \"Given an input question, convert it to an unlabelled Cypher filter query. No pre-amble. No ''' or ```\",\n",
    "        ),\n",
    "        (\"human\", cypher_template),\n",
    "    ]\n",
    ")\n",
    "\n",
    "cypher_response = (\n",
    "    RunnablePassthrough.assign(\n",
    "        schema=lambda _: graph.get_schema,\n",
    "    )\n",
    "    | cypher_prompt\n",
    "    | cypher_llm.bind(stop=[\"\\nCypherResult:\"])\n",
    "    | StrOutputParser()\n",
    ")"
   ]
  },
  {
   "cell_type": "code",
   "execution_count": 54,
   "metadata": {},
   "outputs": [],
   "source": [
    "question = \"Suche nach den Beschlüssen des Gemeinderats bezüglich der Drucksache G-24/065, die am 23.04.2024 behandelt wurde und sich auf die Zukunft der Freiburger Bauernmärkte bezog.\""
   ]
  },
  {
   "cell_type": "code",
   "execution_count": 55,
   "metadata": {},
   "outputs": [
    {
     "name": "stdout",
     "output_type": "stream",
     "text": [
      "MATCH (node)-[:FILE_HAS_FILE_SECTION|FILE_SECTION_HAS_FILE_CHUNK*]->(chunk:FileChunk)\n",
      "MATCH (paper:Paper)-[:PAPER_HAS_AUXILIARY_FILE]->(file:File)\n",
      "WHERE paper.reference = 'G-24/065'\n",
      "WITH node, score, file, paper\n",
      "MATCH (paper)-[:PAPER_HAS_CONSULTATION]->(consultation:Consultation)\n",
      "MATCH (consultation)-[:CONSULTATION_HAS_MEETING]->(meeting:Meeting)\n",
      "WHERE date(meeting.start) = date('2024-04-23')\n",
      "RETURN node.id, score, node.text, {source: file.access_url, paperReference: paper.reference, meetingDate: meeting.start} AS metadata\n"
     ]
    }
   ],
   "source": [
    "response = cypher_response.invoke({\"question\":question})\n",
    "print(response)"
   ]
  },
  {
   "cell_type": "code",
   "execution_count": 56,
   "metadata": {},
   "outputs": [],
   "source": [
    "smart_rag = Neo4jVector.from_existing_index(\n",
    "    OpenAIEmbeddings(), index_name=\"file_chunks\",retrieval_query=response\n",
    ")"
   ]
  },
  {
   "cell_type": "code",
   "execution_count": 57,
   "metadata": {},
   "outputs": [
    {
     "name": "stdout",
     "output_type": "stream",
     "text": [
      "[]\n"
     ]
    }
   ],
   "source": [
    "retriever = smart_rag.as_retriever(search_kwargs={\"k\": 10})\n",
    "docs = retriever.get_relevant_documents(\"What is the name of the person who is the head of the organization?\")\n",
    "print(docs)"
   ]
  }
 ],
 "metadata": {
  "kernelspec": {
   "display_name": ".venv",
   "language": "python",
   "name": "python3"
  },
  "language_info": {
   "codemirror_mode": {
    "name": "ipython",
    "version": 3
   },
   "file_extension": ".py",
   "mimetype": "text/x-python",
   "name": "python",
   "nbconvert_exporter": "python",
   "pygments_lexer": "ipython3",
   "version": "3.12.5"
  }
 },
 "nbformat": 4,
 "nbformat_minor": 2
}
