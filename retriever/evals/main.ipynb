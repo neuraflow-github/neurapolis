{
 "cells": [
  {
   "cell_type": "code",
   "execution_count": 2,
   "metadata": {},
   "outputs": [],
   "source": [
    "from langchain_community.graphs import Neo4jGraph\n",
    "\n",
    "from dotenv import load_dotenv\n",
    "import os\n",
    "\n",
    "# Load environment variables from .env file\n",
    "load_dotenv(override=True)\n",
    "\n",
    "# Access environment variables\n",
    "NEO4J_URI = os.getenv(\"NEO4J_URI\")\n",
    "NEO4J_USERNAME = os.getenv(\"NEO4J_USERNAME\")\n",
    "NEO4J_PASSWORD = os.getenv(\"NEO4J_PASSWORD\")\n",
    "OPENAI_API_KEY = os.getenv(\"OPENAI_API_KEY\")\n",
    "\n",
    "# Set OpenAI API key\n",
    "os.environ[\"OPENAI_API_KEY\"] = OPENAI_API_KEY\n",
    "\n",
    "\n",
    "# Connection to Neo4j\n",
    "graph = Neo4jGraph()"
   ]
  },
  {
   "cell_type": "code",
   "execution_count": 4,
   "metadata": {},
   "outputs": [
    {
     "data": {
      "text/plain": [
       "[{'fc.id': 'ec86ced8-6a4b-47b8-8a34-8966831bac75',\n",
       "  'fc.text': '[ ] bereits Baurechte nach § 30 BauGB bestehen.\\n[x] der Plan im beschleunigten Verfahren (§ 13a/13b BauGB) aufgestellt werden soll.\\n[ ] keine erheblichen oder nachhaltigen Beeinträchtigungen von Natur und Landschaft zu erwarten sind.\\n[ ] Es bestehen die rechtlichen Voraussetzungen zur Anwendung des § 14 BNatSchG, da der Bebauungsplan – in Teilbereichen - eine Planfeststellung ersetzt (vergl. § 18 Abs.2 BNatSchG)\\n2.1.2 Fachliche Prüfung\\nSchutzgut Funktionen und Werte Beeinträchtigung',\n",
       "  'similarity': 0.9113898873329163,\n",
       "  'p.reference': 'BaUStA-24/004'},\n",
       " {'fc.id': '2e36408d-1fbd-488d-8b0e-15dec8349402',\n",
       "  'fc.text': 'Lagebez. Freiburg im Breisgau (Munzingen), St.-Erentrudis-s... Dieses Planwerk Bemerkung UEP Rossbadchle Munzingen strom : =~ Gucseahonnet _ Ma8stab 1:1.290 BNNETZE Datum 27.06.2019 11:56 Uhr f SeOSERVICE 2uvert8ssig und vor Ort 7 F 7 geoservice.regiodata-servies de A aoaade Hessisaiy | BSaPbeiter Preilen, Gerlinde N\\n13  \\nUEP zum B-Plan „Rossbächle“, Plan-Nr. 6-186\\n3. Erforderliche förmliche Verfahren\\n3.1 Bauplanungs- und raumordnungsrechtliche Verfahren',\n",
       "  'similarity': 0.9057427644729614,\n",
       "  'p.reference': 'BaUStA-24/004'},\n",
       " {'fc.id': '52efc54a-80ea-40bb-b625-a44e45a1cf13',\n",
       "  'fc.text': 'HQ extrem bei Erschließung auf kleiner Fläche betroffen',\n",
       "  'similarity': 0.9052189588546753,\n",
       "  'p.reference': 'BaUStA-24/004'},\n",
       " {'fc.id': 'f8e60fc1-f45e-40b2-a498-9d69cd56eeb4',\n",
       "  'fc.text': '[x] Der Bebauungsplan erscheint umwelterheblich aufgrund der zu erwartenden Beeinträchtigung der Schutzgüter:\\n· Mensch\\n· Tiere und Pflanzen\\n· Boden\\n· Fläche\\n· Wasser\\n· Luft\\n· Orts-/Landschaftsbild  \\n[ ] Der Bebauungsplan erscheint nicht umwelterheblich.  \\n9  \\nUEP zum B-Plan „Rossbächle“, Plan-Nr. 6-186  \\nSind innerhalb des Bebauungsplans Probleme mit erzeugten/vorhandenen elektromagnetischen Feldern zu erwarten? [x] ja** [ ] nein',\n",
       "  'similarity': 0.9041843414306641,\n",
       "  'p.reference': 'BaUStA-24/004'},\n",
       " {'fc.id': 'a3601190-f7fc-4450-9e06-2548a6d27a27',\n",
       "  'fc.text': '*3: bei derzeitiger Erschließung wird ein Wasserrechtsverfahren erforderlich für das Mühlbrunnenbächle\\n10  \\nUEP zum B-Plan „Rossbächle“, Plan-Nr. 6-186\\n4. Erforderliche Gutachten und Planungen Inhaltlicher Schwerpunkt Gutachten/Planungen\\n4.1 Naturschutz',\n",
       "  'similarity': 0.9020844101905823,\n",
       "  'p.reference': 'BaUStA-24/004'},\n",
       " {'fc.id': 'bc00c513-7a50-47f6-ac08-0f4d3c5124b5',\n",
       "  'fc.text': 'Dynamik (Strömung, Flurabstand) [ ] ja [x] nein*\\n** Fassadenmaterial darf nicht wassergefährdend sein\\nQualität (Schad- und Nährstoffarmut) [ ] ja [x] nein**\\nOberflächengewässer Name: Rossbächle + Mühlenbrunnenbächle: für beide gilt 10 m Gewässerrandstreifen\\nStruktur (Aue, Ufer, Gewässerbett) [x] ja [ ] nein\\nDynamik (Strömung, Hochwasser) [x] ja [ ] nein\\nQualität (Schad- und Nährstoffarmut) [x] ja [ ] nein\\n[ ] Im Planungsgebiet sind keine Oberflächengewässer vorhanden.',\n",
       "  'similarity': 0.9008487462997437,\n",
       "  'p.reference': 'BaUStA-24/004'},\n",
       " {'fc.id': 'b0c7b145-1f94-409e-87a0-2536719cf4bb',\n",
       "  'fc.text': '[x] Begrünung/Freiflächen prüfen\\n[ ] Hinweise zu Materialverwendung\\n[ ] Sonstiges  \\n6. Empfehlungen zur weiteren Planung\\n6.1 Naturschutz / 6.2 Technischer Umweltschutz\\n• bei Rossbächle + Mühlenbrunnenbächle: 10 m Gewässerrandstreifen\\n• Dachbegrünung bzw. Retentionsdächer und Versickerungsflächen sind wg. Überflutungsvorsorge besonders wichtig\\n• Dachstatik bei geplanter Holzbauweise entsprechend prüfen  \\n6.3 Sonstiges\\n• frühzeitige Beteiligung in Planerrunden wird von ESE und UwSA gewünscht',\n",
       "  'similarity': 0.8994114995002747,\n",
       "  'p.reference': 'BaUStA-24/004'},\n",
       " {'fc.id': '7af85259-6cce-4352-b520-8858203e2215',\n",
       "  'fc.text': '2.3 Technischer Umweltschutz – Schutzgut Mensch\\n2.3.1 Lärm  \\nIst zu erwarten, dass der Bebauungsplan negative Auswirkungen im Hinblick auf die Lärmsituation der Umgebung hat? Sind innerhalb des Bebauungsplans Probleme im Hinblick auf die Lärmsituation zu erwarten? [x] ja [x] ja [ ] nein [ ] nein\\n2.3.2 Lufthygiene',\n",
       "  'similarity': 0.8993555903434753,\n",
       "  'p.reference': 'BaUStA-24/004'},\n",
       " {'fc.id': 'e449e283-b42f-4267-b2b4-2c09a78925a6',\n",
       "  'fc.text': 'Schutzgut Funktionen und Werte Beeinträchtigung\\nBoden Natürliche Bodenfruchtbarkeit [x] ja [ ] nein\\nAusgleichskörper im Wasserkreislauf [x] ja [ ] nein\\nFilter und Puffer für Schadstoffe [x] ja [ ] nein\\nSonderstandort für naturnahe Vegetation [x] ja [ ] nein\\nFläche Archiv der Natur- und Kulturgeschichte [x] ja [ ] nein\\nGrundwasser Neubildung [x] ja [ ] nein\\n* bei derzeitiger Planung ohne Untergeschoss\\nDynamik (Strömung, Flurabstand) [ ] ja [x] nein*',\n",
       "  'similarity': 0.8990380167961121,\n",
       "  'p.reference': 'BaUStA-24/004'},\n",
       " {'fc.id': 'bd780d9f-3cab-457e-bd54-596e1f3e4ff5',\n",
       "  'fc.text': 'falls ja:\\nNr. Störfallbetrieb Hinweise Radius  \\n2.6 Denkmalschutz – Schutzgut Kultur- und sonstige Sachgüter\\nSind von der Planung denkmalgeschützte Objekte/Ensembles betroffen? [x] ja [ ] nein\\nfalls ja: Archäologischer Prüffall (altsteinzeitliche Fundstellen und frühmittelalterliche Gräberfelder befinden sich in direkter Umgebung); Prüfung durch geophysikalische Prospektion erfolgt demnächst\\nDenkmallisten-Nr. Art des Denkmals/Beschreibung Schutzgrund  \\n8',\n",
       "  'similarity': 0.8976242542266846,\n",
       "  'p.reference': 'BaUStA-24/004'}]"
      ]
     },
     "execution_count": 4,
     "metadata": {},
     "output_type": "execute_result"
    }
   ],
   "source": [
    "query = \"\"\"\n",
    "WITH genai.vector.encode(\"Bau\", \"AzureOpenAI\", {\n",
    "  token: \"58469bb30d274655abb1830fc62faadd\",\n",
    "  resource: \"neuraflow-eastus\",\n",
    "  deployment: \"text-embedding-ada-002\"\n",
    "}) AS queryVector\n",
    "MATCH (p:Paper)-[:PAPER_HAS_AUXILIARY_FILE]->(f:File)-[:FILE_HAS_FILE_SECTION]->(fs:FileSection)-[:FILE_SECTION_HAS_FILE_CHUNK]->(fc:FileChunk)\n",
    "WHERE p.reference = 'BaUStA-24/004' and fc.embedding IS NOT NULL\n",
    "RETURN fc.id, fc.text, vector.similarity.cosine(fc.embedding, queryVector) AS similarity, p.reference\n",
    "ORDER BY similarity DESC\n",
    "LIMIT 10\"\"\"\n",
    "\n",
    "graph.query(query)"
   ]
  },
  {
   "cell_type": "code",
   "execution_count": 5,
   "metadata": {},
   "outputs": [
    {
     "data": {
      "text/plain": [
       "'Node properties:\\nLegislativeTerm {start_date: STRING, name: STRING, end_date: STRING, deleted: BOOLEAN, id: STRING, type: STRING, modified: STRING, created: STRING}\\nOrganization {short_name: STRING, body: STRING, modified: STRING, created: STRING, name: STRING, deleted: BOOLEAN, post: LIST, keyword: LIST, organization_type: STRING, id: STRING, type: STRING}\\nPerson {modified: STRING, created: STRING, name: STRING, gender: STRING, family_name: STRING, type: STRING, deleted: BOOLEAN, given_name: STRING, form_of_address: STRING, id: STRING, title: LIST, email: LIST, phone: LIST, life: STRING}\\nMembership {voting_right: BOOLEAN, id: STRING, type: STRING, deleted: BOOLEAN, web: STRING, modified: STRING, created: STRING, role: STRING, start_date: STRING}\\nMeeting {modified: STRING, created: STRING, type: STRING, name: STRING, deleted: BOOLEAN, end: STRING, start: STRING, cancelled: BOOLEAN, meeting_state: STRING, id: STRING}\\nAgendaItem {name: STRING, number: STRING, public: BOOLEAN, id: STRING, type: STRING}\\nPaper {modified: STRING, created: STRING, paper_type: STRING, name: STRING, date: STRING, deleted: BOOLEAN, id: STRING, type: STRING, reference: STRING}\\nConsultation {authoritative: BOOLEAN, role: STRING, id: STRING, type: STRING}\\nFile {extracted_text: STRING, sectionizer_type: STRING, sectionizer_reason: STRING, modified: STRING, created: STRING, date: STRING, deleted: BOOLEAN, size: INTEGER, download_url: STRING, id: STRING, type: STRING, name: STRING, file_name: STRING, access_url: STRING, mime_type: STRING, page_count: INTEGER, sha1_checksum: STRING, text: STRING}\\nLocation {name: STRING, room: STRING, description: STRING, deleted: BOOLEAN, locality: STRING, modified: STRING, created: STRING, sub_locality: STRING, postal_code: STRING, type: STRING, street_address: STRING, web: STRING, id: STRING}\\nFileSection {id: STRING, modified_at: LOCAL_DATE_TIME, created_at: LOCAL_DATE_TIME, text: STRING}\\nFileChunk {id: STRING, modified_at: LOCAL_DATE_TIME, created_at: LOCAL_DATE_TIME, text: STRING, embedding: LIST}\\nEvent {title: STRING, source: STRING, embedding: LIST, description: STRING, tenant_id: STRING}\\nCategory {name: STRING}\\nDate {endTime: TIME, startDate: DATE, endDate: DATE, startTime: TIME}\\nRelationship properties:\\n\\nThe relationships:\\n(:Organization)-[:ORGANIZATION_HAS_MEMBERSHIP]->(:Membership)\\n(:Organization)-[:ORGANIZATION_HAS_CONSULTATION]->(:Consultation)\\n(:Organization)-[:ORGANIZATION_HAS_MEETING]->(:Meeting)\\n(:Person)-[:PERSON_HAS_MEETING]->(:Meeting)\\n(:Person)-[:PERSON_HAS_MEMBERSHIP]->(:Membership)\\n(:Meeting)-[:MEETING_HAS_LOCATION]->(:Location)\\n(:Meeting)-[:MEETING_HAS_AUXILIARY_FILE]->(:File)\\n(:Meeting)-[:MEETING_HAS_AGENDA_ITEM]->(:AgendaItem)\\n(:AgendaItem)-[:AGENDA_ITEM_HAS_CONSULTATION]->(:Consultation)\\n(:Paper)-[:PAPER_HAS_AUXILIARY_FILE]->(:File)\\n(:Paper)-[:PAPER_HAS_CONSULTATION]->(:Consultation)\\n(:Paper)-[:PAPER_HAS_UNDER_DIRECTION_OF_ORGANIZATION]->(:Organization)\\n(:Paper)-[:PAPER_SUPERORDINATED_TO_PAPER]->(:Paper)\\n(:Paper)-[:PAPER_HAS_ORIGINATOR_PERSON]->(:Person)\\n(:Consultation)-[:CONSULTATION_HAS_MEETING]->(:Meeting)\\n(:File)-[:FILE_HAS_FILE_SECTION]->(:FileSection)\\n(:FileSection)-[:FILE_SECTION_HAS_FILE_CHUNK]->(:FileChunk)\\n(:Event)-[:LOCATED_AT]->(:Location)\\n(:Event)-[:BELONGS_TO]->(:Category)\\n(:Event)-[:OCCURS_ON]->(:Date)'"
      ]
     },
     "execution_count": 5,
     "metadata": {},
     "output_type": "execute_result"
    }
   ],
   "source": [
    "graph.get_schema"
   ]
  }
 ],
 "metadata": {
  "kernelspec": {
   "display_name": ".venv",
   "language": "python",
   "name": "python3"
  },
  "language_info": {
   "codemirror_mode": {
    "name": "ipython",
    "version": 3
   },
   "file_extension": ".py",
   "mimetype": "text/x-python",
   "name": "python",
   "nbconvert_exporter": "python",
   "pygments_lexer": "ipython3",
   "version": "3.12.5"
  }
 },
 "nbformat": 4,
 "nbformat_minor": 2
}
